{
  "nbformat": 4,
  "nbformat_minor": 0,
  "metadata": {
    "colab": {
      "provenance": [],
      "authorship_tag": "ABX9TyOmDq0wNLzZzd3mKziAkrNS",
      "include_colab_link": true
    },
    "kernelspec": {
      "name": "python3",
      "display_name": "Python 3"
    },
    "language_info": {
      "name": "python"
    }
  },
  "cells": [
    {
      "cell_type": "markdown",
      "metadata": {
        "id": "view-in-github",
        "colab_type": "text"
      },
      "source": [
        "<a href=\"https://colab.research.google.com/github/pepe619-ela/Houdini/blob/main/Faker_practice.ipynb\" target=\"_parent\"><img src=\"https://colab.research.google.com/assets/colab-badge.svg\" alt=\"Open In Colab\"/></a>"
      ]
    },
    {
      "cell_type": "code",
      "execution_count": 1,
      "metadata": {
        "colab": {
          "base_uri": "https://localhost:8080/"
        },
        "id": "P_Ga40eEt0rm",
        "outputId": "9faabb52-2913-4789-9a66-65bcf5b7b846"
      },
      "outputs": [
        {
          "output_type": "stream",
          "name": "stdout",
          "text": [
            "Collecting faker\n",
            "  Downloading Faker-20.1.0-py3-none-any.whl (1.7 MB)\n",
            "\u001b[?25l     \u001b[90m━━━━━━━━━━━━━━━━━━━━━━━━━━━━━━━━━━━━━━━━\u001b[0m \u001b[32m0.0/1.7 MB\u001b[0m \u001b[31m?\u001b[0m eta \u001b[36m-:--:--\u001b[0m\r\u001b[2K     \u001b[91m━━━━━━━━\u001b[0m\u001b[90m╺\u001b[0m\u001b[90m━━━━━━━━━━━━━━━━━━━━━━━━━━━━━━━\u001b[0m \u001b[32m0.4/1.7 MB\u001b[0m \u001b[31m10.8 MB/s\u001b[0m eta \u001b[36m0:00:01\u001b[0m\r\u001b[2K     \u001b[91m━━━━━━━━━━━━━━━━━━━━━━━\u001b[0m\u001b[91m╸\u001b[0m\u001b[90m━━━━━━━━━━━━━━━━\u001b[0m \u001b[32m1.0/1.7 MB\u001b[0m \u001b[31m15.0 MB/s\u001b[0m eta \u001b[36m0:00:01\u001b[0m\r\u001b[2K     \u001b[91m━━━━━━━━━━━━━━━━━━━━━━━━━━━━━━━━━━━━━━━\u001b[0m\u001b[91m╸\u001b[0m \u001b[32m1.7/1.7 MB\u001b[0m \u001b[31m17.7 MB/s\u001b[0m eta \u001b[36m0:00:01\u001b[0m\r\u001b[2K     \u001b[90m━━━━━━━━━━━━━━━━━━━━━━━━━━━━━━━━━━━━━━━━\u001b[0m \u001b[32m1.7/1.7 MB\u001b[0m \u001b[31m16.1 MB/s\u001b[0m eta \u001b[36m0:00:00\u001b[0m\n",
            "\u001b[?25hRequirement already satisfied: python-dateutil>=2.4 in /usr/local/lib/python3.10/dist-packages (from faker) (2.8.2)\n",
            "Requirement already satisfied: six>=1.5 in /usr/local/lib/python3.10/dist-packages (from python-dateutil>=2.4->faker) (1.16.0)\n",
            "Installing collected packages: faker\n",
            "Successfully installed faker-20.1.0\n"
          ]
        }
      ],
      "source": [
        "!pip install faker"
      ]
    },
    {
      "cell_type": "code",
      "source": [
        "from faker import Faker\n",
        "import random"
      ],
      "metadata": {
        "id": "6oEbKFO8uDUh"
      },
      "execution_count": 10,
      "outputs": []
    },
    {
      "cell_type": "code",
      "source": [
        "fake = Faker()"
      ],
      "metadata": {
        "id": "WMZz9TRCuXJm"
      },
      "execution_count": 5,
      "outputs": []
    },
    {
      "cell_type": "code",
      "source": [
        "\n",
        "def generate_hospital_data(num_records):\n",
        "    hospital_data = []\n",
        "\n",
        "    for _ in range(num_records):\n",
        "        hospital_name = fake.company()\n",
        "        address = fake.address()\n",
        "        phone_number = fake.phone_number()\n",
        "        capacity = random.randint(50, 500)\n",
        "        staff_count = random.randint(10, 100)\n",
        "        specialties = [fake.word() for _ in range(random.randint(1, 5))]\n",
        "\n",
        "        hospital_info = {\n",
        "            'Hospital Name': hospital_name,\n",
        "            'Address': address,\n",
        "            'Phone Number': phone_number,\n",
        "            'Capacity': capacity,\n",
        "            'Staff Count': staff_count,\n",
        "            'Specialties': specialties\n",
        "        }\n",
        "\n",
        "        hospital_data.append(hospital_info)\n",
        "\n",
        "    return hospital_data"
      ],
      "metadata": {
        "id": "Y2SfEavlucBS"
      },
      "execution_count": 11,
      "outputs": []
    },
    {
      "cell_type": "code",
      "source": [
        "# Example: Generate 5 synthetic hospital records\n",
        "num_records = 5\n",
        "df = generate_hospital_data(num_records)"
      ],
      "metadata": {
        "id": "_GEXv7Tovr7G"
      },
      "execution_count": 12,
      "outputs": []
    },
    {
      "cell_type": "code",
      "source": [
        "import pandas as pd"
      ],
      "metadata": {
        "id": "MzdStmAmwSeG"
      },
      "execution_count": 16,
      "outputs": []
    },
    {
      "cell_type": "code",
      "source": [
        "df1 = pd.DataFrame(df)"
      ],
      "metadata": {
        "id": "0sgM-0uOwqby"
      },
      "execution_count": 17,
      "outputs": []
    },
    {
      "cell_type": "code",
      "source": [
        "print(df1)"
      ],
      "metadata": {
        "colab": {
          "base_uri": "https://localhost:8080/"
        },
        "id": "0Wh_Aq_IwzVm",
        "outputId": "150d69af-cf2e-45d9-c6e5-688c86c4c79c"
      },
      "execution_count": 20,
      "outputs": [
        {
          "output_type": "stream",
          "name": "stdout",
          "text": [
            "                   Hospital Name  \\\n",
            "0                 Stuart-Edwards   \n",
            "1  Pittman, Campbell and Johnson   \n",
            "2    Mcdaniel, Brown and Kennedy   \n",
            "3       Roberts, Diaz and Howard   \n",
            "4                  Mendoza-Brown   \n",
            "\n",
            "                                             Address            Phone Number  \\\n",
            "0               506 Shawn Cove\\nJonesshire, CA 78181     +1-422-443-0065x268   \n",
            "1  6673 David Lodge Suite 183\\nNorth Dylan, AK 19347              8779803220   \n",
            "2  10684 Amanda Wells Apt. 760\\nSouth Ginabury, M...      819.533.2008x23770   \n",
            "3         21056 Smith Vista\\nMartinezshire, CA 95356            611-278-4136   \n",
            "4      68258 Black Crossing\\nPort Michelle, HI 66342  001-615-376-3315x21139   \n",
            "\n",
            "   Capacity  Staff Count                              Specialties  \n",
            "0       448           94                                   [rock]  \n",
            "1       315           11      [computer, reveal, guy, job, thank]  \n",
            "2       487           55        [conference, understand, without]  \n",
            "3       105           86                             [be, assume]  \n",
            "4       295           58  [smile, up, candidate, quickly, memory]  \n"
          ]
        }
      ]
    }
  ]
}